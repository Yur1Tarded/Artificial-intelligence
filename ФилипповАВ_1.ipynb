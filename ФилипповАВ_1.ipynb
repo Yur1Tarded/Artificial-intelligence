{
 "cells":[
  {
   "cell_type":"code",
   "source":[
    "import os\n",
    "import numpy as np\n",
    "import pandas as pd\n",
    "\n",
    "def read_data(path, filename):\n",
    "    return pd.read_csv(os.path.join(path, filename))\n",
    "\n",
    "df = read_data('\/data\/notebook_files', 'train.csv')\n",
    "df.head()"
   ],
   "execution_count":3,
   "outputs":[
    {
     "data":{
      "text\/html":[
       "<div>\n",
       "<style scoped>\n",
       "    .dataframe tbody tr th:only-of-type {\n",
       "        vertical-align: middle;\n",
       "    }\n",
       "\n",
       "    .dataframe tbody tr th {\n",
       "        vertical-align: top;\n",
       "    }\n",
       "\n",
       "    .dataframe thead th {\n",
       "        text-align: right;\n",
       "    }\n",
       "<\/style>\n",
       "<table border=\"1\" class=\"dataframe\">\n",
       "  <thead>\n",
       "    <tr style=\"text-align: right;\">\n",
       "      <th><\/th>\n",
       "      <th>tBodyAcc-mean()-X<\/th>\n",
       "      <th>tBodyAcc-mean()-Y<\/th>\n",
       "      <th>tBodyAcc-mean()-Z<\/th>\n",
       "      <th>tBodyAcc-std()-X<\/th>\n",
       "      <th>tBodyAcc-std()-Y<\/th>\n",
       "      <th>tBodyAcc-std()-Z<\/th>\n",
       "      <th>tBodyAcc-mad()-X<\/th>\n",
       "      <th>tBodyAcc-mad()-Y<\/th>\n",
       "      <th>tBodyAcc-mad()-Z<\/th>\n",
       "      <th>tBodyAcc-max()-X<\/th>\n",
       "      <th>...<\/th>\n",
       "      <th>fBodyBodyGyroJerkMag-kurtosis()<\/th>\n",
       "      <th>angle(tBodyAccMean,gravity)<\/th>\n",
       "      <th>angle(tBodyAccJerkMean),gravityMean)<\/th>\n",
       "      <th>angle(tBodyGyroMean,gravityMean)<\/th>\n",
       "      <th>angle(tBodyGyroJerkMean,gravityMean)<\/th>\n",
       "      <th>angle(X,gravityMean)<\/th>\n",
       "      <th>angle(Y,gravityMean)<\/th>\n",
       "      <th>angle(Z,gravityMean)<\/th>\n",
       "      <th>subject<\/th>\n",
       "      <th>Activity<\/th>\n",
       "    <\/tr>\n",
       "  <\/thead>\n",
       "  <tbody>\n",
       "    <tr>\n",
       "      <th>0<\/th>\n",
       "      <td>0.288585<\/td>\n",
       "      <td>-0.020294<\/td>\n",
       "      <td>-0.132905<\/td>\n",
       "      <td>-0.995279<\/td>\n",
       "      <td>-0.983111<\/td>\n",
       "      <td>-0.913526<\/td>\n",
       "      <td>-0.995112<\/td>\n",
       "      <td>-0.983185<\/td>\n",
       "      <td>-0.923527<\/td>\n",
       "      <td>-0.934724<\/td>\n",
       "      <td>...<\/td>\n",
       "      <td>-0.710304<\/td>\n",
       "      <td>-0.112754<\/td>\n",
       "      <td>0.030400<\/td>\n",
       "      <td>-0.464761<\/td>\n",
       "      <td>-0.018446<\/td>\n",
       "      <td>-0.841247<\/td>\n",
       "      <td>0.179941<\/td>\n",
       "      <td>-0.058627<\/td>\n",
       "      <td>1<\/td>\n",
       "      <td>STANDING<\/td>\n",
       "    <\/tr>\n",
       "    <tr>\n",
       "      <th>1<\/th>\n",
       "      <td>0.278419<\/td>\n",
       "      <td>-0.016411<\/td>\n",
       "      <td>-0.123520<\/td>\n",
       "      <td>-0.998245<\/td>\n",
       "      <td>-0.975300<\/td>\n",
       "      <td>-0.960322<\/td>\n",
       "      <td>-0.998807<\/td>\n",
       "      <td>-0.974914<\/td>\n",
       "      <td>-0.957686<\/td>\n",
       "      <td>-0.943068<\/td>\n",
       "      <td>...<\/td>\n",
       "      <td>-0.861499<\/td>\n",
       "      <td>0.053477<\/td>\n",
       "      <td>-0.007435<\/td>\n",
       "      <td>-0.732626<\/td>\n",
       "      <td>0.703511<\/td>\n",
       "      <td>-0.844788<\/td>\n",
       "      <td>0.180289<\/td>\n",
       "      <td>-0.054317<\/td>\n",
       "      <td>1<\/td>\n",
       "      <td>STANDING<\/td>\n",
       "    <\/tr>\n",
       "    <tr>\n",
       "      <th>2<\/th>\n",
       "      <td>0.279653<\/td>\n",
       "      <td>-0.019467<\/td>\n",
       "      <td>-0.113462<\/td>\n",
       "      <td>-0.995380<\/td>\n",
       "      <td>-0.967187<\/td>\n",
       "      <td>-0.978944<\/td>\n",
       "      <td>-0.996520<\/td>\n",
       "      <td>-0.963668<\/td>\n",
       "      <td>-0.977469<\/td>\n",
       "      <td>-0.938692<\/td>\n",
       "      <td>...<\/td>\n",
       "      <td>-0.760104<\/td>\n",
       "      <td>-0.118559<\/td>\n",
       "      <td>0.177899<\/td>\n",
       "      <td>0.100699<\/td>\n",
       "      <td>0.808529<\/td>\n",
       "      <td>-0.848933<\/td>\n",
       "      <td>0.180637<\/td>\n",
       "      <td>-0.049118<\/td>\n",
       "      <td>1<\/td>\n",
       "      <td>STANDING<\/td>\n",
       "    <\/tr>\n",
       "    <tr>\n",
       "      <th>3<\/th>\n",
       "      <td>0.279174<\/td>\n",
       "      <td>-0.026201<\/td>\n",
       "      <td>-0.123283<\/td>\n",
       "      <td>-0.996091<\/td>\n",
       "      <td>-0.983403<\/td>\n",
       "      <td>-0.990675<\/td>\n",
       "      <td>-0.997099<\/td>\n",
       "      <td>-0.982750<\/td>\n",
       "      <td>-0.989302<\/td>\n",
       "      <td>-0.938692<\/td>\n",
       "      <td>...<\/td>\n",
       "      <td>-0.482845<\/td>\n",
       "      <td>-0.036788<\/td>\n",
       "      <td>-0.012892<\/td>\n",
       "      <td>0.640011<\/td>\n",
       "      <td>-0.485366<\/td>\n",
       "      <td>-0.848649<\/td>\n",
       "      <td>0.181935<\/td>\n",
       "      <td>-0.047663<\/td>\n",
       "      <td>1<\/td>\n",
       "      <td>STANDING<\/td>\n",
       "    <\/tr>\n",
       "    <tr>\n",
       "      <th>4<\/th>\n",
       "      <td>0.276629<\/td>\n",
       "      <td>-0.016570<\/td>\n",
       "      <td>-0.115362<\/td>\n",
       "      <td>-0.998139<\/td>\n",
       "      <td>-0.980817<\/td>\n",
       "      <td>-0.990482<\/td>\n",
       "      <td>-0.998321<\/td>\n",
       "      <td>-0.979672<\/td>\n",
       "      <td>-0.990441<\/td>\n",
       "      <td>-0.942469<\/td>\n",
       "      <td>...<\/td>\n",
       "      <td>-0.699205<\/td>\n",
       "      <td>0.123320<\/td>\n",
       "      <td>0.122542<\/td>\n",
       "      <td>0.693578<\/td>\n",
       "      <td>-0.615971<\/td>\n",
       "      <td>-0.847865<\/td>\n",
       "      <td>0.185151<\/td>\n",
       "      <td>-0.043892<\/td>\n",
       "      <td>1<\/td>\n",
       "      <td>STANDING<\/td>\n",
       "    <\/tr>\n",
       "  <\/tbody>\n",
       "<\/table>\n",
       "<p>5 rows × 563 columns<\/p>\n",
       "<\/div>"
      ]
     },
     "metadata":{
      
     },
     "output_type":"display_data"
    }
   ],
   "metadata":{
    "datalore":{
     "node_id":"zK8kbZeRgJBoFLlL9N51sy",
     "type":"CODE",
     "hide_input_from_viewers":false,
     "hide_output_from_viewers":false
    }
   }
  },
  {
   "cell_type":"code",
   "source":[
    "def load_dataset(label_dict):\n",
    "    train_X = read_data('\/data\/notebook_files', 'train.csv').values[:,:-2]\n",
    "    train_y = read_data('\/data\/notebook_files', 'train.csv')['Activity']\n",
    "    train_y = train_y.map(label_dict).values\n",
    "    test_X = read_data('\/data\/notebook_files', 'test.csv').values[:,:-2]\n",
    "    test_y = read_data('\/data\/notebook_files', 'test.csv')\n",
    "    test_y = test_y['Activity'].map(label_dict).values\n",
    "    return(train_X, train_y, test_X, test_y)\n",
    "label_dict = {'WALKING':0, 'WALKING_UPSTAIRS':1, 'WALKING_DOWNSTAIRS':2, 'SITTING':3, 'STANDING':4, 'LAYING':5}\n",
    "train_X, train_y, test_X, test_y = load_dataset(label_dict)"
   ],
   "execution_count":4,
   "outputs":[
    
   ],
   "metadata":{
    "datalore":{
     "node_id":"nUuKvVrtxqp6AjEZZt6ncU",
     "type":"CODE",
     "hide_input_from_viewers":false,
     "hide_output_from_viewers":false
    }
   }
  },
  {
   "cell_type":"code",
   "source":[
    "from sklearn.tree import DecisionTreeClassifier\n",
    "\n",
    "model = DecisionTreeClassifier()\n",
    "model.fit(train_X, train_y)\n",
    "\n",
    "yhat = model.predict(test_X)\n",
    "\n",
    "from sklearn.metrics import classification_report\n",
    "target_names = ['Walking', 'Walking Upstairs', 'Walking Downstairs', 'Sitting', 'Standing', 'Laying']\n",
    "\n",
    "print(classification_report(test_y, yhat, target_names=target_names))"
   ],
   "execution_count":5,
   "outputs":[
    {
     "name":"stdout",
     "text":[
      "                    precision    recall  f1-score   support\n",
      "\n",
      "           Walking       0.84      0.93      0.88       496\n",
      "  Walking Upstairs       0.83      0.75      0.79       471\n",
      "Walking Downstairs       0.84      0.82      0.83       420\n",
      "           Sitting       0.83      0.77      0.80       491\n",
      "          Standing       0.80      0.86      0.83       532\n",
      "            Laying       1.00      1.00      1.00       537\n",
      "\n",
      "          accuracy                           0.86      2947\n",
      "         macro avg       0.86      0.85      0.85      2947\n",
      "      weighted avg       0.86      0.86      0.86      2947\n",
      "\n"
     ],
     "output_type":"stream"
    }
   ],
   "metadata":{
    "datalore":{
     "node_id":"5IbNJ2RoyKt2LddBYYBNDl",
     "type":"CODE",
     "hide_input_from_viewers":false,
     "hide_output_from_viewers":false
    }
   }
  },
  {
   "cell_type":"code",
   "source":[
    "from sklearn.tree import DecisionTreeClassifier\n",
    "\n",
    "model = DecisionTreeClassifier(splitter='random')\n",
    "model.fit(train_X, train_y)\n",
    "\n",
    "yhat = model.predict(test_X)\n",
    "\n",
    "from sklearn.metrics import classification_report\n",
    "target_names = ['Walking', 'Walking Upstairs', 'Walking Downstairs', 'Sitting', 'Standing', 'Laying']\n",
    "\n",
    "print(classification_report(test_y, yhat, target_names=target_names))"
   ],
   "execution_count":6,
   "outputs":[
    {
     "name":"stdout",
     "text":[
      "                    precision    recall  f1-score   support\n",
      "\n",
      "           Walking       0.86      0.91      0.88       496\n",
      "  Walking Upstairs       0.79      0.75      0.77       471\n",
      "Walking Downstairs       0.79      0.79      0.79       420\n",
      "           Sitting       0.81      0.78      0.80       491\n",
      "          Standing       0.81      0.83      0.82       532\n",
      "            Laying       1.00      1.00      1.00       537\n",
      "\n",
      "          accuracy                           0.85      2947\n",
      "         macro avg       0.84      0.84      0.84      2947\n",
      "      weighted avg       0.85      0.85      0.85      2947\n",
      "\n"
     ],
     "output_type":"stream"
    }
   ],
   "metadata":{
    "datalore":{
     "node_id":"WKScTizUNlP2Fyd7u5Xkh3",
     "type":"CODE",
     "hide_input_from_viewers":false,
     "hide_output_from_viewers":false
    }
   }
  },
  {
   "cell_type":"code",
   "source":[
    "from sklearn.tree import DecisionTreeClassifier\n",
    "\n",
    "model = DecisionTreeClassifier(splitter='random', criterion='entropy')\n",
    "model.fit(train_X, train_y)\n",
    "\n",
    "yhat = model.predict(test_X)\n",
    "\n",
    "from sklearn.metrics import classification_report\n",
    "target_names = ['Walking', 'Walking Upstairs', 'Walking Downstairs', 'Sitting', 'Standing', 'Laying']\n",
    "\n",
    "print(classification_report(test_y, yhat, target_names=target_names))"
   ],
   "execution_count":7,
   "outputs":[
    {
     "name":"stdout",
     "text":[
      "                    precision    recall  f1-score   support\n",
      "\n",
      "           Walking       0.80      0.88      0.84       496\n",
      "  Walking Upstairs       0.80      0.71      0.75       471\n",
      "Walking Downstairs       0.80      0.79      0.80       420\n",
      "           Sitting       0.81      0.78      0.79       491\n",
      "          Standing       0.80      0.83      0.82       532\n",
      "            Laying       0.99      1.00      0.99       537\n",
      "\n",
      "          accuracy                           0.84      2947\n",
      "         macro avg       0.83      0.83      0.83      2947\n",
      "      weighted avg       0.84      0.84      0.83      2947\n",
      "\n"
     ],
     "output_type":"stream"
    }
   ],
   "metadata":{
    "datalore":{
     "node_id":"quQYLqUeluhcVjooiIRaqN",
     "type":"CODE",
     "hide_input_from_viewers":false,
     "hide_output_from_viewers":false
    }
   }
  },
  {
   "cell_type":"code",
   "source":[
    "from sklearn.ensemble import RandomForestClassifier\n",
    "\n",
    "model = RandomForestClassifier()\n",
    "model.fit(train_X, train_y)\n",
    "\n",
    "yhat = model.predict(test_X)\n",
    "\n",
    "from sklearn.metrics import classification_report\n",
    "target_names = ['Walking', 'Walking Upstairs', 'Walking Downstairs', 'Sitting', 'Standing', 'Laying']\n",
    "\n",
    "print(classification_report(test_y, yhat, target_names=target_names))"
   ],
   "execution_count":13,
   "outputs":[
    {
     "name":"stdout",
     "text":[
      "                    precision    recall  f1-score   support\n",
      "\n",
      "           Walking       0.91      0.97      0.94       496\n",
      "  Walking Upstairs       0.89      0.93      0.91       471\n",
      "Walking Downstairs       0.96      0.84      0.90       420\n",
      "           Sitting       0.92      0.89      0.91       491\n",
      "          Standing       0.90      0.93      0.92       532\n",
      "            Laying       1.00      1.00      1.00       537\n",
      "\n",
      "          accuracy                           0.93      2947\n",
      "         macro avg       0.93      0.93      0.93      2947\n",
      "      weighted avg       0.93      0.93      0.93      2947\n",
      "\n"
     ],
     "output_type":"stream"
    }
   ],
   "metadata":{
    "datalore":{
     "node_id":"qiO7LtK2UucezNTLne0hmV",
     "type":"CODE",
     "hide_input_from_viewers":false,
     "hide_output_from_viewers":false
    }
   }
  },
  {
   "cell_type":"code",
   "source":[
    "from sklearn.ensemble import RandomForestClassifier\n",
    "\n",
    "model = RandomForestClassifier(max_depth=100)\n",
    "model.fit(train_X, train_y)\n",
    "\n",
    "yhat = model.predict(test_X)\n",
    "\n",
    "from sklearn.metrics import classification_report\n",
    "target_names = ['Walking', 'Walking Upstairs', 'Walking Downstairs', 'Sitting', 'Standing', 'Laying']\n",
    "\n",
    "print(classification_report(test_y, yhat, target_names=target_names))"
   ],
   "execution_count":18,
   "outputs":[
    {
     "name":"stdout",
     "text":[
      "                    precision    recall  f1-score   support\n",
      "\n",
      "           Walking       0.89      0.98      0.93       496\n",
      "  Walking Upstairs       0.90      0.91      0.90       471\n",
      "Walking Downstairs       0.96      0.85      0.90       420\n",
      "           Sitting       0.91      0.88      0.90       491\n",
      "          Standing       0.90      0.92      0.91       532\n",
      "            Laying       1.00      1.00      1.00       537\n",
      "\n",
      "          accuracy                           0.93      2947\n",
      "         macro avg       0.93      0.92      0.92      2947\n",
      "      weighted avg       0.93      0.93      0.93      2947\n",
      "\n"
     ],
     "output_type":"stream"
    }
   ],
   "metadata":{
    "datalore":{
     "node_id":"SWQG2UXIWih6Q2pgEG3fVy",
     "type":"CODE",
     "hide_input_from_viewers":false,
     "hide_output_from_viewers":false
    }
   }
  },
  {
   "cell_type":"code",
   "source":[
    "from sklearn.ensemble import RandomForestClassifier\n",
    "\n",
    "model = RandomForestClassifier(n_estimators=50, random_state= 111)\n",
    "model.fit(train_X, train_y)\n",
    "\n",
    "yhat = model.predict(test_X)\n",
    "\n",
    "from sklearn.metrics import classification_report\n",
    "target_names = ['Walking', 'Walking Upstairs', 'Walking Downstairs', 'Sitting', 'Standing', 'Laying']\n",
    "\n",
    "print(classification_report(test_y, yhat, target_names=target_names))"
   ],
   "execution_count":22,
   "outputs":[
    {
     "name":"stdout",
     "text":[
      "                    precision    recall  f1-score   support\n",
      "\n",
      "           Walking       0.91      0.97      0.94       496\n",
      "  Walking Upstairs       0.89      0.92      0.90       471\n",
      "Walking Downstairs       0.96      0.85      0.90       420\n",
      "           Sitting       0.92      0.90      0.91       491\n",
      "          Standing       0.91      0.92      0.92       532\n",
      "            Laying       1.00      1.00      1.00       537\n",
      "\n",
      "          accuracy                           0.93      2947\n",
      "         macro avg       0.93      0.93      0.93      2947\n",
      "      weighted avg       0.93      0.93      0.93      2947\n",
      "\n"
     ],
     "output_type":"stream"
    }
   ],
   "metadata":{
    "datalore":{
     "node_id":"CRaWTaDSIbJNXtbNIB4oPZ",
     "type":"CODE",
     "hide_input_from_viewers":false,
     "hide_output_from_viewers":false
    }
   }
  }
 ],
 "metadata":{
  "kernelspec":{
   "display_name":"Python",
   "language":"python",
   "name":"python"
  },
  "datalore":{
   "version":1,
   "computation_mode":"JUPYTER",
   "package_manager":"pip",
   "base_environment":"default",
   "packages":[
    
   ]
  }
 },
 "nbformat":4,
 "nbformat_minor":4
}